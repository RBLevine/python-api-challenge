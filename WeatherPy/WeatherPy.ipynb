{
 "cells": [
  {
   "cell_type": "markdown",
   "metadata": {},
   "source": [
    "# WeatherPy\n",
    "----\n",
    "\n",
    "#### Observations\n",
    "* 1. There is a strong correlation between latitude and max temp for both hemispheres. Northern hemisphere gets colder the further north you go from he equator while the southern hemisphere gets colder the further south you go from the equator.\n",
    "* 2. The vast majority of locations have a humidity percentage of over 50%. This has zero to no reliance on latitude. \n",
    "* 3. The vast majority of locations have a wind speed of 15mph or less. This also has little to no reliance on latitude.\n",
    "* 4. Cloudiness is completely unaffected by the latitude of a location. "
   ]
  },
  {
   "cell_type": "code",
   "execution_count": 1,
   "metadata": {
    "scrolled": true
   },
   "outputs": [],
   "source": [
    "# Dependencies and Setup\n",
    "import matplotlib.pyplot as plt\n",
    "import pandas as pd\n",
    "import numpy as np\n",
    "import requests\n",
    "import time\n",
    "from scipy.stats import linregress\n",
    "\n",
    "# Import API key\n",
    "from api_keys import weather_api_key\n",
    "\n",
    "# Incorporated citipy to determine city based on latitude and longitude\n",
    "from citipy import citipy\n",
    "\n",
    "# Output File (CSV)\n",
    "output_data_file = \"output_data/cities.csv\"\n",
    "\n",
    "# Range of latitudes and longitudes\n",
    "lat_range = (-90, 90)\n",
    "lng_range = (-180, 180)"
   ]
  },
  {
   "cell_type": "markdown",
   "metadata": {},
   "source": [
    "## Generate Cities List"
   ]
  },
  {
   "cell_type": "code",
   "execution_count": 2,
   "metadata": {},
   "outputs": [
    {
     "data": {
      "text/plain": [
       "616"
      ]
     },
     "execution_count": 2,
     "metadata": {},
     "output_type": "execute_result"
    }
   ],
   "source": [
    "# List for holding lat_lngs and cities\n",
    "lat_lngs = []\n",
    "cities = []\n",
    "\n",
    "# Create a set of random lat and lng combinations\n",
    "lats = np.random.uniform(lat_range[0], lat_range[1], size=1500) #size should be 1500 in this and below\n",
    "lngs = np.random.uniform(lng_range[0], lng_range[1], size=1500)\n",
    "lat_lngs = zip(lats, lngs)\n",
    "\n",
    "# Identify nearest city for each lat, lng combination\n",
    "for lat_lng in lat_lngs:\n",
    "    city = citipy.nearest_city(lat_lng[0], lat_lng[1]).city_name\n",
    "    \n",
    "    # If the city is unique, then add it to a our cities list\n",
    "    if city not in cities:\n",
    "        cities.append(city)\n",
    "\n",
    "# Print the city count to confirm sufficient count\n",
    "len(cities)"
   ]
  },
  {
   "cell_type": "markdown",
   "metadata": {},
   "source": [
    "### Perform API Calls\n",
    "* Perform a weather check on each city using a series of successive API calls.\n",
    "* Include a print log of each city as it'sbeing processed (with the city number and city name).\n"
   ]
  },
  {
   "cell_type": "code",
   "execution_count": null,
   "metadata": {},
   "outputs": [],
   "source": []
  },
  {
   "cell_type": "code",
   "execution_count": 3,
   "metadata": {
    "scrolled": true
   },
   "outputs": [
    {
     "name": "stdout",
     "output_type": "stream",
     "text": [
      "Beginning Data Retrieval\n",
      "-------------------------------\n",
      "Processing Record 1 of Set 1 | nome\n",
      "Processing Record 2 of Set 1 | libreville\n",
      "Processing Record 3 of Set 1 | cromarty\n",
      "Processing Record 4 of Set 1 | punta arenas\n",
      "Processing Record 5 of Set 1 | kota kinabalu\n",
      "Processing Record 6 of Set 1 | kodiak\n",
      "Processing Record 7 of Set 1 | hermanus\n",
      "Processing Record 8 of Set 1 | mahendranagar\n",
      "Processing Record 9 of Set 1 | aizawl\n",
      "Processing Record 10 of Set 1 | busselton\n",
      "Processing Record 11 of Set 1 | ushuaia\n",
      "Processing Record 12 of Set 1 | east london\n",
      "Processing Record 13 of Set 1 | saskylakh\n",
      "Processing Record 14 of Set 1 | kinshasa\n",
      "The city, amderma, was not found. Skipping...\n",
      "Processing Record 16 of Set 1 | ketchikan\n",
      "Processing Record 17 of Set 1 | albany\n",
      "Processing Record 18 of Set 1 | ancud\n",
      "Processing Record 19 of Set 1 | port alfred\n",
      "Processing Record 20 of Set 1 | chokurdakh\n",
      "Processing Record 21 of Set 1 | provideniya\n",
      "Processing Record 22 of Set 1 | dauriya\n",
      "Processing Record 23 of Set 1 | hilo\n",
      "Processing Record 24 of Set 1 | sinnamary\n",
      "Processing Record 25 of Set 1 | tuktoyaktuk\n",
      "Processing Record 26 of Set 1 | bluff\n",
      "Processing Record 27 of Set 1 | pavilosta\n",
      "Processing Record 28 of Set 1 | sao joao da barra\n",
      "Processing Record 29 of Set 1 | nuuk\n",
      "Processing Record 30 of Set 1 | cape town\n",
      "Processing Record 31 of Set 1 | lavrentiya\n",
      "Processing Record 32 of Set 1 | campina verde\n",
      "Processing Record 33 of Set 1 | bludenz\n",
      "Processing Record 34 of Set 1 | mataura\n",
      "Processing Record 35 of Set 1 | ossora\n",
      "Processing Record 36 of Set 1 | esperance\n",
      "Processing Record 37 of Set 1 | novaya mayna\n",
      "Processing Record 38 of Set 1 | honiara\n",
      "Processing Record 39 of Set 1 | mar del plata\n",
      "Processing Record 40 of Set 1 | gazli\n",
      "Processing Record 41 of Set 1 | bonavista\n",
      "Processing Record 42 of Set 1 | ola\n",
      "Processing Record 43 of Set 1 | batemans bay\n",
      "Processing Record 44 of Set 1 | souillac\n",
      "Processing Record 45 of Set 1 | barrow\n",
      "Processing Record 46 of Set 1 | upernavik\n",
      "Processing Record 47 of Set 1 | alekseyevsk\n",
      "Processing Record 48 of Set 1 | lebu\n",
      "The city, crab hill, was not found. Skipping...\n",
      "The city, grand river south east, was not found. Skipping...\n",
      "Processing Record 51 of Set 1 | rikitea\n",
      "Processing Record 52 of Set 1 | ballina\n",
      "Processing Record 53 of Set 1 | mahebourg\n",
      "Processing Record 54 of Set 1 | butaritari\n",
      "Processing Record 55 of Set 1 | lagunas\n",
      "Processing Record 56 of Set 1 | beloha\n",
      "Processing Record 57 of Set 1 | port elizabeth\n",
      "Processing Record 58 of Set 1 | avarua\n",
      "Processing Record 59 of Set 1 | airai\n",
      "Processing Record 60 of Set 1 | faanui\n",
      "Processing Record 61 of Set 1 | codrington\n",
      "Processing Record 62 of Set 1 | cherskiy\n",
      "Processing Record 63 of Set 1 | broken hill\n",
      "Processing Record 64 of Set 1 | lenexa\n",
      "Processing Record 65 of Set 1 | new norfolk\n",
      "Processing Record 66 of Set 1 | cabo san lucas\n",
      "Processing Record 67 of Set 1 | saint-philippe\n",
      "Processing Record 68 of Set 1 | bara\n",
      "Processing Record 69 of Set 1 | kapaa\n",
      "Processing Record 70 of Set 1 | pacific grove\n",
      "Processing Record 71 of Set 1 | taitung\n",
      "Processing Record 72 of Set 1 | lagos\n",
      "Processing Record 73 of Set 1 | bengkulu\n",
      "Processing Record 74 of Set 1 | eagle pass\n",
      "Processing Record 75 of Set 1 | sistranda\n",
      "The city, taolanaro, was not found. Skipping...\n",
      "Processing Record 77 of Set 1 | atuona\n",
      "Processing Record 78 of Set 1 | darnah\n",
      "Processing Record 79 of Set 1 | arraial do cabo\n",
      "Processing Record 80 of Set 1 | road town\n",
      "Processing Record 81 of Set 1 | chuy\n",
      "Processing Record 82 of Set 1 | dunedin\n",
      "Processing Record 83 of Set 1 | buala\n",
      "Processing Record 84 of Set 1 | vaini\n",
      "Processing Record 85 of Set 1 | haines junction\n",
      "Processing Record 86 of Set 1 | gushikawa\n",
      "Processing Record 87 of Set 1 | yellowknife\n",
      "Processing Record 88 of Set 1 | kiunga\n",
      "Processing Record 89 of Set 1 | troitskaya\n",
      "The city, illoqqortoormiut, was not found. Skipping...\n",
      "The city, azimur, was not found. Skipping...\n",
      "Processing Record 92 of Set 1 | narsaq\n",
      "Processing Record 93 of Set 1 | pevek\n",
      "Processing Record 94 of Set 1 | osmena\n",
      "Processing Record 95 of Set 1 | stokmarknes\n",
      "Processing Record 96 of Set 1 | severo-kurilsk\n",
      "Processing Record 97 of Set 1 | juba\n",
      "Processing Record 98 of Set 1 | castro\n",
      "Processing Record 99 of Set 1 | nong chik\n",
      "Processing Record 100 of Set 1 | beringovskiy\n",
      "The city, hunza, was not found. Skipping...\n",
      "The city, tsihombe, was not found. Skipping...\n",
      "Processing Record 103 of Set 1 | komsomolskiy\n",
      "Processing Record 104 of Set 1 | topolovgrad\n",
      "Processing Record 105 of Set 1 | samus\n",
      "Processing Record 106 of Set 1 | chapais\n",
      "Processing Record 107 of Set 1 | kearney\n",
      "Processing Record 108 of Set 1 | la asuncion\n",
      "The city, macaboboni, was not found. Skipping...\n",
      "The city, belushya guba, was not found. Skipping...\n",
      "Processing Record 111 of Set 1 | copiapo\n",
      "Processing Record 112 of Set 1 | lac du bonnet\n",
      "Processing Record 113 of Set 1 | qaanaaq\n",
      "Processing Record 114 of Set 1 | sao filipe\n",
      "The city, barentsburg, was not found. Skipping...\n",
      "Processing Record 116 of Set 1 | marystown\n",
      "Processing Record 117 of Set 1 | verkhnevilyuysk\n",
      "Processing Record 118 of Set 1 | vila franca do campo\n",
      "Processing Record 119 of Set 1 | bethel\n",
      "Processing Record 120 of Set 1 | farsund\n",
      "Processing Record 121 of Set 1 | bilibino\n",
      "Processing Record 122 of Set 1 | sosnovoborsk\n",
      "Processing Record 123 of Set 1 | belyy yar\n",
      "Processing Record 124 of Set 1 | lima\n",
      "Processing Record 125 of Set 1 | tolbazy\n",
      "Processing Record 126 of Set 1 | seoul\n",
      "Processing Record 127 of Set 1 | georgetown\n",
      "Processing Record 128 of Set 1 | bubaque\n",
      "Processing Record 129 of Set 1 | atherton\n",
      "Processing Record 130 of Set 1 | las palmas\n",
      "Processing Record 131 of Set 1 | luderitz\n",
      "Processing Record 132 of Set 1 | tateyama\n",
      "Processing Record 133 of Set 1 | port hardy\n",
      "The city, karamay, was not found. Skipping...\n",
      "Processing Record 135 of Set 1 | kavieng\n",
      "Processing Record 136 of Set 1 | hami\n",
      "Processing Record 137 of Set 1 | port blair\n",
      "Processing Record 138 of Set 1 | camopi\n",
      "Processing Record 139 of Set 1 | katsuura\n",
      "Processing Record 140 of Set 1 | maceio\n",
      "Processing Record 141 of Set 1 | bredasdorp\n",
      "Processing Record 142 of Set 1 | lorengau\n",
      "Processing Record 143 of Set 1 | goundi\n",
      "Processing Record 144 of Set 1 | aklavik\n",
      "Processing Record 145 of Set 1 | ponta do sol\n",
      "Processing Record 146 of Set 1 | cidreira\n",
      "Processing Record 147 of Set 1 | diu\n",
      "Processing Record 148 of Set 1 | abu samrah\n",
      "Processing Record 149 of Set 1 | kavaratti\n",
      "Processing Record 150 of Set 1 | pangody\n",
      "The city, samusu, was not found. Skipping...\n",
      "Processing Record 152 of Set 1 | matadi\n",
      "Processing Record 153 of Set 1 | najran\n",
      "Processing Record 154 of Set 1 | waipawa\n",
      "Processing Record 155 of Set 1 | mount gambier\n",
      "Processing Record 156 of Set 1 | tasiilaq\n",
      "Processing Record 157 of Set 1 | coihaique\n",
      "Processing Record 158 of Set 1 | nyaunglebin\n",
      "Processing Record 159 of Set 1 | pangnirtung\n",
      "Processing Record 160 of Set 1 | ikauna\n",
      "Processing Record 161 of Set 1 | iskateley\n",
      "Processing Record 162 of Set 1 | puerto ayora\n",
      "Processing Record 163 of Set 1 | stepnogorsk\n",
      "Processing Record 164 of Set 1 | tura\n",
      "Processing Record 165 of Set 1 | kisangani\n",
      "Processing Record 166 of Set 1 | kutum\n",
      "Processing Record 167 of Set 1 | makueni\n",
      "Processing Record 168 of Set 1 | hamilton\n",
      "Processing Record 169 of Set 1 | krasnoselkup\n",
      "Processing Record 170 of Set 1 | pijijiapan\n",
      "Processing Record 171 of Set 1 | raga\n",
      "Processing Record 172 of Set 1 | vad\n",
      "Processing Record 173 of Set 1 | chicama\n",
      "The city, mys shmidta, was not found. Skipping...\n",
      "Processing Record 175 of Set 1 | hithadhoo\n",
      "Processing Record 176 of Set 1 | motygino\n",
      "Processing Record 177 of Set 1 | carnarvon\n",
      "Processing Record 178 of Set 1 | dauphin\n",
      "Processing Record 179 of Set 1 | touros\n",
      "Processing Record 180 of Set 1 | comodoro rivadavia\n",
      "Processing Record 181 of Set 1 | indianola\n",
      "Processing Record 182 of Set 1 | moose factory\n",
      "Processing Record 183 of Set 1 | nanortalik\n",
      "Processing Record 184 of Set 1 | kumi\n",
      "Processing Record 185 of Set 1 | nikolskoye\n",
      "Processing Record 186 of Set 1 | gejiu\n",
      "The city, talah, was not found. Skipping...\n",
      "Processing Record 188 of Set 1 | san cristobal\n",
      "The city, dzhusaly, was not found. Skipping...\n",
      "Processing Record 190 of Set 1 | chabahar\n",
      "Processing Record 191 of Set 1 | punta alta\n",
      "Processing Record 192 of Set 1 | saint-augustin\n"
     ]
    },
    {
     "name": "stdout",
     "output_type": "stream",
     "text": [
      "The city, marv dasht, was not found. Skipping...\n",
      "Processing Record 194 of Set 1 | agarak\n",
      "Processing Record 195 of Set 1 | hobart\n",
      "Processing Record 196 of Set 1 | spornoye\n",
      "Processing Record 197 of Set 1 | coquimbo\n",
      "Processing Record 198 of Set 1 | matara\n",
      "Processing Record 199 of Set 1 | chifeng\n",
      "Processing Record 200 of Set 1 | victoria\n",
      "Processing Record 201 of Set 1 | indi\n",
      "Processing Record 202 of Set 1 | anadyr\n",
      "Processing Record 203 of Set 1 | hasaki\n",
      "Processing Record 204 of Set 1 | abha\n",
      "Processing Record 205 of Set 1 | longyearbyen\n",
      "Processing Record 206 of Set 1 | sumenep\n",
      "Processing Record 207 of Set 1 | labuhan\n",
      "Processing Record 208 of Set 1 | malinovskiy\n",
      "Processing Record 209 of Set 1 | zhigansk\n",
      "Processing Record 210 of Set 1 | kamskoye ustye\n",
      "Processing Record 211 of Set 1 | mareeba\n",
      "Processing Record 212 of Set 1 | jamestown\n",
      "Processing Record 213 of Set 1 | kaitangata\n",
      "Processing Record 214 of Set 1 | boguchany\n",
      "Processing Record 215 of Set 1 | mumford\n",
      "Processing Record 216 of Set 1 | anshun\n",
      "Processing Record 217 of Set 1 | ndele\n",
      "Processing Record 218 of Set 1 | ilulissat\n",
      "Processing Record 219 of Set 1 | darab\n",
      "Processing Record 220 of Set 1 | camana\n",
      "The city, rawannawi, was not found. Skipping...\n",
      "Processing Record 222 of Set 1 | kapustin yar\n",
      "Processing Record 223 of Set 1 | saratoga springs\n",
      "Processing Record 224 of Set 1 | floriano\n",
      "Processing Record 225 of Set 1 | okhotsk\n",
      "Processing Record 226 of Set 1 | sitka\n",
      "Processing Record 227 of Set 1 | puerto escondido\n",
      "Processing Record 228 of Set 1 | padang\n",
      "Processing Record 229 of Set 1 | nouadhibou\n",
      "Processing Record 230 of Set 1 | mitu\n",
      "Processing Record 231 of Set 1 | ngorongoro\n",
      "Processing Record 232 of Set 1 | moreira sales\n",
      "Processing Record 233 of Set 1 | eureka\n",
      "Processing Record 234 of Set 1 | saldanha\n",
      "The city, saleaula, was not found. Skipping...\n",
      "Processing Record 236 of Set 1 | roanoke rapids\n",
      "Processing Record 237 of Set 1 | elizabeth city\n",
      "Processing Record 238 of Set 1 | tazovskiy\n",
      "Processing Record 239 of Set 1 | morant bay\n",
      "Processing Record 240 of Set 1 | ambilobe\n",
      "Processing Record 241 of Set 1 | roald\n",
      "The city, formoso do araguaia, was not found. Skipping...\n",
      "Processing Record 243 of Set 1 | wanning\n",
      "Processing Record 244 of Set 1 | saint george\n",
      "Processing Record 245 of Set 1 | selikhino\n",
      "The city, sentyabrskiy, was not found. Skipping...\n",
      "The city, satitoa, was not found. Skipping...\n",
      "Processing Record 248 of Set 1 | naze\n",
      "Processing Record 249 of Set 1 | huilong\n",
      "Processing Record 250 of Set 1 | puerto carreno\n",
      "The city, palabuhanratu, was not found. Skipping...\n",
      "Processing Record 252 of Set 1 | wasilla\n",
      "Processing Record 253 of Set 1 | buzmeyin\n",
      "Processing Record 254 of Set 1 | hemsedal\n",
      "Processing Record 255 of Set 1 | coahuayana\n",
      "Processing Record 256 of Set 1 | mandan\n",
      "Processing Record 257 of Set 1 | pasni\n",
      "Processing Record 258 of Set 1 | ribeira grande\n",
      "The city, ozgon, was not found. Skipping...\n",
      "Processing Record 260 of Set 1 | omsukchan\n",
      "Processing Record 261 of Set 1 | rurrenabaque\n",
      "Processing Record 262 of Set 1 | necochea\n",
      "Processing Record 263 of Set 1 | baghdad\n",
      "Processing Record 264 of Set 1 | trairi\n",
      "Processing Record 265 of Set 1 | san patricio\n",
      "The city, afmadu, was not found. Skipping...\n",
      "Processing Record 267 of Set 1 | egvekinot\n",
      "Processing Record 268 of Set 1 | dikson\n",
      "The city, marcona, was not found. Skipping...\n",
      "Processing Record 270 of Set 1 | takoradi\n",
      "Processing Record 271 of Set 1 | san juan del sur\n",
      "Processing Record 272 of Set 1 | tilichiki\n",
      "Processing Record 273 of Set 1 | basco\n",
      "Processing Record 274 of Set 1 | bandarbeyla\n",
      "Processing Record 275 of Set 1 | eirunepe\n",
      "Processing Record 276 of Set 1 | whitehorse\n",
      "Processing Record 277 of Set 1 | promyshlennaya\n",
      "Processing Record 278 of Set 1 | awjilah\n",
      "Processing Record 279 of Set 1 | kruisfontein\n",
      "Processing Record 280 of Set 1 | nabire\n",
      "Processing Record 281 of Set 1 | meulaboh\n",
      "Processing Record 282 of Set 1 | kirakira\n",
      "Processing Record 283 of Set 1 | mount isa\n",
      "Processing Record 284 of Set 1 | isiro\n",
      "Processing Record 285 of Set 1 | fort saint james\n",
      "The city, yanan, was not found. Skipping...\n",
      "Processing Record 287 of Set 1 | chara\n",
      "Processing Record 288 of Set 1 | guerrero negro\n",
      "Processing Record 289 of Set 1 | paranaiba\n",
      "Processing Record 290 of Set 1 | boali\n",
      "Processing Record 291 of Set 1 | thompson\n",
      "Processing Record 292 of Set 1 | faya\n",
      "Processing Record 293 of Set 1 | begowal\n",
      "Processing Record 294 of Set 1 | kedrovyy\n",
      "Processing Record 295 of Set 1 | obala\n",
      "Processing Record 296 of Set 1 | malanje\n",
      "Processing Record 297 of Set 1 | ostrovnoy\n",
      "Processing Record 298 of Set 1 | taoudenni\n",
      "Processing Record 299 of Set 1 | havoysund\n",
      "The city, vaitupu, was not found. Skipping...\n",
      "Processing Record 301 of Set 1 | moncada\n",
      "Processing Record 302 of Set 1 | panama city\n",
      "Processing Record 303 of Set 1 | diapaga\n",
      "Processing Record 304 of Set 1 | sobolevo\n",
      "Processing Record 305 of Set 1 | zhezkazgan\n",
      "Processing Record 306 of Set 1 | kaili\n",
      "Processing Record 307 of Set 1 | lebork\n",
      "Processing Record 308 of Set 1 | dzilam gonzalez\n",
      "Processing Record 309 of Set 1 | alton\n",
      "Processing Record 310 of Set 1 | fort nelson\n",
      "Processing Record 311 of Set 1 | nouakchott\n",
      "Processing Record 312 of Set 1 | moron\n",
      "Processing Record 313 of Set 1 | daru\n",
      "Processing Record 314 of Set 1 | norman wells\n",
      "Processing Record 315 of Set 1 | morehead\n",
      "Processing Record 316 of Set 1 | talaya\n",
      "Processing Record 317 of Set 1 | tiksi\n",
      "Processing Record 318 of Set 1 | mbanza-ngungu\n",
      "Processing Record 319 of Set 1 | khandbari\n",
      "Processing Record 320 of Set 1 | laguna\n",
      "Processing Record 321 of Set 1 | monduli\n",
      "Processing Record 322 of Set 1 | ourossogui\n",
      "Processing Record 323 of Set 1 | galbshtadt\n",
      "Processing Record 324 of Set 1 | new bern\n",
      "Processing Record 325 of Set 1 | svetlogorsk\n",
      "Processing Record 326 of Set 1 | abu dhabi\n",
      "Processing Record 327 of Set 1 | gulu\n",
      "Processing Record 328 of Set 1 | fortuna\n",
      "The city, aflu, was not found. Skipping...\n",
      "Processing Record 330 of Set 1 | sola\n",
      "Processing Record 331 of Set 1 | rio gallegos\n",
      "Processing Record 332 of Set 1 | canico\n",
      "Processing Record 333 of Set 1 | nagua\n",
      "Processing Record 334 of Set 1 | warwick\n",
      "Processing Record 335 of Set 1 | harper\n",
      "The city, ambodifototra, was not found. Skipping...\n",
      "Processing Record 337 of Set 1 | saint anthony\n",
      "Processing Record 338 of Set 1 | cap malheureux\n",
      "Processing Record 339 of Set 1 | lubango\n",
      "Processing Record 340 of Set 1 | mudigere\n",
      "Processing Record 341 of Set 1 | baherden\n",
      "Processing Record 342 of Set 1 | banepa\n",
      "Processing Record 343 of Set 1 | itarema\n",
      "Processing Record 344 of Set 1 | itainopolis\n",
      "Processing Record 345 of Set 1 | yar-sale\n",
      "Processing Record 346 of Set 1 | waris aliganj\n",
      "The city, bolshaya vishera, was not found. Skipping...\n",
      "Processing Record 348 of Set 1 | inhambane\n",
      "The city, mullaitivu, was not found. Skipping...\n",
      "The city, tunduru, was not found. Skipping...\n",
      "Processing Record 351 of Set 1 | los llanos de aridane\n",
      "Processing Record 352 of Set 1 | labrea\n",
      "Processing Record 353 of Set 1 | assiniboia\n",
      "Processing Record 354 of Set 1 | tsabong\n",
      "The city, allanmyo, was not found. Skipping...\n",
      "Processing Record 356 of Set 1 | hay river\n",
      "Processing Record 357 of Set 1 | murwillumbah\n",
      "Processing Record 358 of Set 1 | howard springs\n",
      "Processing Record 359 of Set 1 | gap\n",
      "Processing Record 360 of Set 1 | ekhabi\n",
      "Processing Record 361 of Set 1 | san jose\n",
      "Processing Record 362 of Set 1 | samarai\n",
      "Processing Record 363 of Set 1 | tera\n",
      "The city, umzimvubu, was not found. Skipping...\n",
      "Processing Record 365 of Set 1 | pita\n",
      "Processing Record 366 of Set 1 | leon\n",
      "Processing Record 367 of Set 1 | tuy hoa\n",
      "Processing Record 368 of Set 1 | le locle\n",
      "Processing Record 369 of Set 1 | sangin\n",
      "Processing Record 370 of Set 1 | grindavik\n",
      "Processing Record 371 of Set 1 | quatre cocos\n",
      "Processing Record 372 of Set 1 | san-pedro\n",
      "Processing Record 373 of Set 1 | gravdal\n",
      "Processing Record 374 of Set 1 | tomatlan\n",
      "The city, attawapiskat, was not found. Skipping...\n",
      "Processing Record 376 of Set 1 | tahe\n",
      "Processing Record 377 of Set 1 | mirnyy\n",
      "Processing Record 378 of Set 1 | doume\n",
      "Processing Record 379 of Set 1 | la primavera\n",
      "Processing Record 380 of Set 1 | cockburn town\n",
      "Processing Record 381 of Set 1 | maues\n",
      "Processing Record 382 of Set 1 | bac lieu\n",
      "Processing Record 383 of Set 1 | xiaoweizhai\n"
     ]
    },
    {
     "name": "stdout",
     "output_type": "stream",
     "text": [
      "Processing Record 384 of Set 1 | jinchang\n",
      "Processing Record 385 of Set 1 | camacupa\n",
      "Processing Record 386 of Set 1 | aquiraz\n",
      "The city, toliary, was not found. Skipping...\n",
      "Processing Record 388 of Set 1 | muzaffarabad\n",
      "Processing Record 389 of Set 1 | rabat\n",
      "Processing Record 390 of Set 1 | lompoc\n",
      "Processing Record 391 of Set 1 | novoseleznevo\n",
      "Processing Record 392 of Set 1 | nizwa\n",
      "Processing Record 393 of Set 1 | riviere-au-renard\n",
      "Processing Record 394 of Set 1 | shache\n",
      "Processing Record 395 of Set 1 | takhatpur\n",
      "Processing Record 396 of Set 1 | tarakan\n",
      "Processing Record 397 of Set 1 | yerbogachen\n",
      "The city, barawe, was not found. Skipping...\n",
      "Processing Record 399 of Set 1 | yarada\n",
      "Processing Record 400 of Set 1 | konotop\n",
      "Processing Record 401 of Set 1 | tabas\n",
      "Processing Record 402 of Set 1 | ponta delgada\n",
      "The city, louisbourg, was not found. Skipping...\n",
      "Processing Record 404 of Set 1 | kirensk\n",
      "Processing Record 405 of Set 1 | broome\n",
      "Processing Record 406 of Set 1 | pilar\n",
      "Processing Record 407 of Set 1 | klaksvik\n",
      "Processing Record 408 of Set 1 | iqaluit\n",
      "Processing Record 409 of Set 1 | santa cruz\n",
      "Processing Record 410 of Set 1 | jablah\n",
      "Processing Record 411 of Set 1 | wuxue\n",
      "Processing Record 412 of Set 1 | alofi\n",
      "Processing Record 413 of Set 1 | kenora\n",
      "Processing Record 414 of Set 1 | homer\n",
      "Processing Record 415 of Set 1 | dolinsk\n",
      "Processing Record 416 of Set 1 | kushiro\n",
      "Processing Record 417 of Set 1 | cobija\n",
      "Processing Record 418 of Set 1 | tyukhtet\n",
      "Processing Record 419 of Set 1 | saint-pierre\n",
      "Processing Record 420 of Set 1 | zabol\n",
      "Processing Record 421 of Set 1 | marawi\n",
      "Processing Record 422 of Set 1 | vardo\n",
      "Processing Record 423 of Set 1 | morgan city\n",
      "Processing Record 424 of Set 1 | zyryanka\n",
      "Processing Record 425 of Set 1 | torbay\n",
      "Processing Record 426 of Set 1 | olafsvik\n",
      "Processing Record 427 of Set 1 | kuching\n",
      "The city, rolim de moura, was not found. Skipping...\n",
      "Processing Record 429 of Set 1 | tuatapere\n",
      "Processing Record 430 of Set 1 | solnechnyy\n",
      "Processing Record 431 of Set 1 | atar\n",
      "Processing Record 432 of Set 1 | belgorod\n",
      "Processing Record 433 of Set 1 | kargasok\n",
      "Processing Record 434 of Set 1 | maryborough\n",
      "Processing Record 435 of Set 1 | nedjo\n",
      "Processing Record 436 of Set 1 | dandong\n",
      "Processing Record 437 of Set 1 | sambava\n",
      "Processing Record 438 of Set 1 | sungurlare\n",
      "Processing Record 439 of Set 1 | amapa\n",
      "Processing Record 440 of Set 1 | tarabuco\n",
      "Processing Record 441 of Set 1 | oytal\n",
      "Processing Record 442 of Set 1 | micheldorf\n",
      "Processing Record 443 of Set 1 | port-cartier\n",
      "Processing Record 444 of Set 1 | pangai\n",
      "Processing Record 445 of Set 1 | bambous virieux\n",
      "The city, shkotovo-26, was not found. Skipping...\n",
      "Processing Record 447 of Set 1 | mahajanga\n",
      "Processing Record 448 of Set 1 | mitsamiouli\n",
      "Processing Record 449 of Set 1 | russell\n",
      "Processing Record 450 of Set 1 | nantucket\n",
      "Processing Record 451 of Set 1 | great falls\n",
      "Processing Record 452 of Set 1 | kahului\n",
      "Processing Record 453 of Set 1 | sudzha\n",
      "Processing Record 454 of Set 1 | umm lajj\n",
      "Processing Record 455 of Set 1 | mehamn\n",
      "Processing Record 456 of Set 1 | maningrida\n",
      "Processing Record 457 of Set 1 | morwell\n",
      "Processing Record 458 of Set 1 | geraldton\n",
      "Processing Record 459 of Set 1 | stornoway\n",
      "Processing Record 460 of Set 1 | timmins\n",
      "Processing Record 461 of Set 1 | rawson\n",
      "Processing Record 462 of Set 1 | sandwick\n",
      "Processing Record 463 of Set 1 | verkhnyaya inta\n",
      "Processing Record 464 of Set 1 | clyde river\n",
      "Processing Record 465 of Set 1 | barrancabermeja\n",
      "Processing Record 466 of Set 1 | soloneshnoye\n",
      "The city, ondorhaan, was not found. Skipping...\n",
      "Processing Record 468 of Set 1 | poya\n",
      "The city, phrai bung, was not found. Skipping...\n",
      "The city, skalistyy, was not found. Skipping...\n",
      "Processing Record 471 of Set 1 | champerico\n",
      "Processing Record 472 of Set 1 | ahipara\n",
      "Processing Record 473 of Set 1 | palu\n",
      "Processing Record 474 of Set 1 | rocha\n",
      "Processing Record 475 of Set 1 | pemangkat\n",
      "Processing Record 476 of Set 1 | rudbar\n",
      "Processing Record 477 of Set 1 | gisborne\n",
      "Processing Record 478 of Set 1 | ejura\n",
      "Processing Record 479 of Set 1 | khatanga\n",
      "Processing Record 480 of Set 1 | nicoya\n",
      "Processing Record 481 of Set 1 | lasa\n",
      "Processing Record 482 of Set 1 | acapulco\n",
      "Processing Record 483 of Set 1 | talnakh\n",
      "Processing Record 484 of Set 1 | kharan\n",
      "Processing Record 485 of Set 1 | baringo\n",
      "Processing Record 486 of Set 1 | half moon bay\n",
      "Processing Record 487 of Set 1 | hwange\n",
      "Processing Record 488 of Set 1 | kalulushi\n",
      "Processing Record 489 of Set 1 | grand baie\n",
      "Processing Record 490 of Set 1 | adrar\n",
      "Processing Record 491 of Set 1 | masuguru\n",
      "Processing Record 492 of Set 1 | palmerston\n",
      "Processing Record 493 of Set 1 | caravelas\n",
      "Processing Record 494 of Set 1 | leningradskiy\n",
      "Processing Record 495 of Set 1 | barabai\n",
      "Processing Record 496 of Set 1 | fairbanks\n",
      "Processing Record 497 of Set 1 | skibotn\n",
      "Processing Record 498 of Set 1 | zadar\n",
      "Processing Record 499 of Set 1 | sao gabriel da cachoeira\n",
      "Processing Record 500 of Set 1 | puerto quijarro\n",
      "Processing Record 501 of Set 1 | inirida\n",
      "Processing Record 502 of Set 1 | oranjemund\n",
      "Processing Record 503 of Set 1 | vuktyl\n",
      "Processing Record 504 of Set 1 | weston\n",
      "Processing Record 505 of Set 1 | lagoa\n",
      "Processing Record 506 of Set 1 | bogandinskiy\n",
      "Processing Record 507 of Set 1 | kyabe\n",
      "Processing Record 508 of Set 1 | port lincoln\n",
      "Processing Record 509 of Set 1 | manta\n",
      "The city, nizhneyansk, was not found. Skipping...\n",
      "Processing Record 511 of Set 1 | santa ines\n",
      "Processing Record 512 of Set 1 | windsor\n",
      "Processing Record 513 of Set 1 | shimoda\n",
      "Processing Record 514 of Set 1 | cairns\n",
      "Processing Record 515 of Set 1 | petropavlovsk-kamchatskiy\n",
      "The city, vitimskiy, was not found. Skipping...\n",
      "Processing Record 517 of Set 1 | bahia honda\n",
      "The city, abiy adi, was not found. Skipping...\n",
      "Processing Record 519 of Set 1 | slave lake\n",
      "Processing Record 520 of Set 1 | red bluff\n",
      "Processing Record 521 of Set 1 | havre-saint-pierre\n",
      "Processing Record 522 of Set 1 | severnyy\n",
      "Processing Record 523 of Set 1 | raghogarh\n",
      "Processing Record 524 of Set 1 | roma\n",
      "Processing Record 525 of Set 1 | askarovo\n",
      "Processing Record 526 of Set 1 | chichica\n",
      "Processing Record 527 of Set 1 | kupang\n",
      "Processing Record 528 of Set 1 | zaysan\n",
      "Processing Record 529 of Set 1 | truro\n",
      "The city, nguiu, was not found. Skipping...\n",
      "Processing Record 531 of Set 1 | srednekolymsk\n",
      "Processing Record 532 of Set 1 | sangar\n",
      "Processing Record 533 of Set 1 | fare\n",
      "Processing Record 534 of Set 1 | keti bandar\n",
      "Processing Record 535 of Set 1 | mecca\n",
      "Processing Record 536 of Set 1 | sakaiminato\n",
      "Processing Record 537 of Set 1 | richards bay\n",
      "Processing Record 538 of Set 1 | boca do acre\n",
      "Processing Record 539 of Set 1 | vila\n",
      "Processing Record 540 of Set 1 | petrolia\n",
      "Processing Record 541 of Set 1 | la rioja\n",
      "Processing Record 542 of Set 1 | korcula\n",
      "The city, sapao, was not found. Skipping...\n",
      "Processing Record 544 of Set 1 | gemena\n",
      "Processing Record 545 of Set 1 | la ronge\n",
      "Processing Record 546 of Set 1 | aykhal\n",
      "Processing Record 547 of Set 1 | atambua\n",
      "Processing Record 548 of Set 1 | mandalgovi\n",
      "Processing Record 549 of Set 1 | balabac\n",
      "Processing Record 550 of Set 1 | jijiga\n",
      "Processing Record 551 of Set 1 | sijunjung\n",
      "Processing Record 552 of Set 1 | berdigestyakh\n",
      "Processing Record 553 of Set 1 | port-gentil\n",
      "Processing Record 554 of Set 1 | campoverde\n",
      "Processing Record 555 of Set 1 | khani\n",
      "Processing Record 556 of Set 1 | khao wong\n",
      "The city, kuche, was not found. Skipping...\n",
      "The city, phan rang, was not found. Skipping...\n",
      "Processing Record 559 of Set 1 | sept-iles\n",
      "The city, fort saint john, was not found. Skipping...\n",
      "The city, bur gabo, was not found. Skipping...\n",
      "Processing Record 562 of Set 1 | hualmay\n",
      "Processing Record 563 of Set 1 | olinda\n",
      "Processing Record 564 of Set 1 | bonthe\n",
      "Processing Record 565 of Set 1 | kousseri\n",
      "Processing Record 566 of Set 1 | cawayan\n",
      "Processing Record 567 of Set 1 | husavik\n",
      "Processing Record 568 of Set 1 | kaeo\n",
      "Processing Record 569 of Set 1 | ayagoz\n",
      "Processing Record 570 of Set 1 | aksu\n",
      "Processing Record 571 of Set 1 | oktyabrskoye\n",
      "Processing Record 572 of Set 1 | calabozo\n",
      "Processing Record 573 of Set 1 | port hedland\n",
      "Processing Record 574 of Set 1 | poronaysk\n",
      "Processing Record 575 of Set 1 | illapel\n"
     ]
    },
    {
     "name": "stdout",
     "output_type": "stream",
     "text": [
      "Processing Record 576 of Set 1 | hambantota\n",
      "Processing Record 577 of Set 1 | ngunguru\n",
      "Processing Record 578 of Set 1 | fairmont\n",
      "Processing Record 579 of Set 1 | along\n",
      "Processing Record 580 of Set 1 | isugod\n",
      "Processing Record 581 of Set 1 | santa maria\n",
      "Processing Record 582 of Set 1 | mazyr\n",
      "Processing Record 583 of Set 1 | vila velha\n",
      "Processing Record 584 of Set 1 | asau\n",
      "Processing Record 585 of Set 1 | antalaha\n",
      "Processing Record 586 of Set 1 | chotila\n",
      "Processing Record 587 of Set 1 | teahupoo\n",
      "Processing Record 588 of Set 1 | revda\n",
      "Processing Record 589 of Set 1 | curaca\n",
      "Processing Record 590 of Set 1 | poum\n",
      "Processing Record 591 of Set 1 | pietersburg\n",
      "Processing Record 592 of Set 1 | mao\n",
      "Processing Record 593 of Set 1 | baft\n",
      "Processing Record 594 of Set 1 | biak\n",
      "Processing Record 595 of Set 1 | namibe\n",
      "Processing Record 596 of Set 1 | eldama ravine\n",
      "Processing Record 597 of Set 1 | santa isabel do rio negro\n",
      "The city, tillabery, was not found. Skipping...\n",
      "Processing Record 599 of Set 1 | tirano\n",
      "Processing Record 600 of Set 1 | fasa\n",
      "Processing Record 601 of Set 1 | papara\n",
      "Processing Record 602 of Set 1 | upington\n",
      "Processing Record 603 of Set 1 | narasannapeta\n",
      "Processing Record 604 of Set 1 | pisco\n",
      "Processing Record 605 of Set 1 | hirara\n",
      "Processing Record 606 of Set 1 | svetlyy\n",
      "Processing Record 607 of Set 1 | sangueya\n",
      "Processing Record 608 of Set 1 | vestmannaeyjar\n",
      "Processing Record 609 of Set 1 | mayor pablo lagerenza\n",
      "Processing Record 610 of Set 1 | da nang\n",
      "Processing Record 611 of Set 1 | businga\n",
      "Processing Record 612 of Set 1 | hokitika\n",
      "Processing Record 613 of Set 1 | mantua\n",
      "Processing Record 614 of Set 1 | flinders\n",
      "Processing Record 615 of Set 1 | santander\n",
      "Processing Record 616 of Set 1 | college\n"
     ]
    }
   ],
   "source": [
    "#empty lists to store info\n",
    "usedLats=[]\n",
    "usedLngs=[]\n",
    "maxTemp=[]\n",
    "humidity=[]\n",
    "cloudiness=[]\n",
    "windSpeed=[]\n",
    "country=[]\n",
    "date=[]\n",
    "usedCities=[]\n",
    "\n",
    "\n",
    "url = \"http://api.openweathermap.org/data/2.5/weather?\"\n",
    "units = \"imperial\"\n",
    "query_url = f\"{url}appid={weather_api_key}&units={units}&q=\"\n",
    "\n",
    "\n",
    "print(\"Beginning Data Retrieval\")\n",
    "print(\"-------------------------------\")\n",
    "\n",
    "#iterate through each city\n",
    "for city in cities:\n",
    "    #send the request\n",
    "    response = requests.get(query_url + city).json()\n",
    "    #track record number\n",
    "    recordNum=cities.index(city)+1    \n",
    "    try: \n",
    "        #append info to corresponding list above\n",
    "        usedLats.append(response['coord']['lat'])\n",
    "        usedLngs.append(response['coord']['lon'])\n",
    "        maxTemp.append(response['main']['temp_max'])     \n",
    "        humidity.append(response['main']['humidity'])\n",
    "        cloudiness.append(response['clouds']['all'])\n",
    "        windSpeed.append(response['wind']['speed'])\n",
    "        country.append(response['sys']['country'])\n",
    "        date.append(response['dt'])\n",
    "        usedCities.append(city)\n",
    "        \n",
    "        #print to make it known it was successful\n",
    "        print(f\"Processing Record {recordNum} of Set 1 | {city}\")\n",
    "    except:\n",
    "        #if unable to retrieve some info, show skipping message\n",
    "        print(f\"The city, {city}, was not found. Skipping...\")    \n",
    "        \n"
   ]
  },
  {
   "cell_type": "markdown",
   "metadata": {},
   "source": [
    "### Convert Raw Data to DataFrame\n",
    "* Export the city data into a .csv.\n",
    "* Display the DataFrame"
   ]
  },
  {
   "cell_type": "code",
   "execution_count": 4,
   "metadata": {},
   "outputs": [
    {
     "data": {
      "text/html": [
       "<div>\n",
       "<style scoped>\n",
       "    .dataframe tbody tr th:only-of-type {\n",
       "        vertical-align: middle;\n",
       "    }\n",
       "\n",
       "    .dataframe tbody tr th {\n",
       "        vertical-align: top;\n",
       "    }\n",
       "\n",
       "    .dataframe thead th {\n",
       "        text-align: right;\n",
       "    }\n",
       "</style>\n",
       "<table border=\"1\" class=\"dataframe\">\n",
       "  <thead>\n",
       "    <tr style=\"text-align: right;\">\n",
       "      <th></th>\n",
       "      <th>City</th>\n",
       "      <th>Lat</th>\n",
       "      <th>Lng</th>\n",
       "      <th>Max Temp</th>\n",
       "      <th>Humidity</th>\n",
       "      <th>Cloudiness</th>\n",
       "      <th>Wind Speed</th>\n",
       "      <th>Country</th>\n",
       "      <th>Date</th>\n",
       "    </tr>\n",
       "  </thead>\n",
       "  <tbody>\n",
       "    <tr>\n",
       "      <th>0</th>\n",
       "      <td>nome</td>\n",
       "      <td>64.50</td>\n",
       "      <td>-165.41</td>\n",
       "      <td>34.00</td>\n",
       "      <td>86</td>\n",
       "      <td>90</td>\n",
       "      <td>4.70</td>\n",
       "      <td>US</td>\n",
       "      <td>1603842620</td>\n",
       "    </tr>\n",
       "    <tr>\n",
       "      <th>1</th>\n",
       "      <td>libreville</td>\n",
       "      <td>0.39</td>\n",
       "      <td>9.45</td>\n",
       "      <td>77.00</td>\n",
       "      <td>100</td>\n",
       "      <td>75</td>\n",
       "      <td>4.70</td>\n",
       "      <td>GA</td>\n",
       "      <td>1603842702</td>\n",
       "    </tr>\n",
       "    <tr>\n",
       "      <th>2</th>\n",
       "      <td>cromarty</td>\n",
       "      <td>57.68</td>\n",
       "      <td>-4.03</td>\n",
       "      <td>44.01</td>\n",
       "      <td>100</td>\n",
       "      <td>100</td>\n",
       "      <td>3.36</td>\n",
       "      <td>GB</td>\n",
       "      <td>1603842703</td>\n",
       "    </tr>\n",
       "    <tr>\n",
       "      <th>3</th>\n",
       "      <td>punta arenas</td>\n",
       "      <td>-53.15</td>\n",
       "      <td>-70.92</td>\n",
       "      <td>46.40</td>\n",
       "      <td>61</td>\n",
       "      <td>0</td>\n",
       "      <td>16.11</td>\n",
       "      <td>CL</td>\n",
       "      <td>1603842703</td>\n",
       "    </tr>\n",
       "    <tr>\n",
       "      <th>4</th>\n",
       "      <td>kota kinabalu</td>\n",
       "      <td>5.97</td>\n",
       "      <td>116.07</td>\n",
       "      <td>77.00</td>\n",
       "      <td>78</td>\n",
       "      <td>20</td>\n",
       "      <td>5.82</td>\n",
       "      <td>MY</td>\n",
       "      <td>1603842703</td>\n",
       "    </tr>\n",
       "  </tbody>\n",
       "</table>\n",
       "</div>"
      ],
      "text/plain": [
       "            City    Lat     Lng  Max Temp  Humidity  Cloudiness  Wind Speed  \\\n",
       "0           nome  64.50 -165.41     34.00        86          90        4.70   \n",
       "1     libreville   0.39    9.45     77.00       100          75        4.70   \n",
       "2       cromarty  57.68   -4.03     44.01       100         100        3.36   \n",
       "3   punta arenas -53.15  -70.92     46.40        61           0       16.11   \n",
       "4  kota kinabalu   5.97  116.07     77.00        78          20        5.82   \n",
       "\n",
       "  Country        Date  \n",
       "0      US  1603842620  \n",
       "1      GA  1603842702  \n",
       "2      GB  1603842703  \n",
       "3      CL  1603842703  \n",
       "4      MY  1603842703  "
      ]
     },
     "execution_count": 4,
     "metadata": {},
     "output_type": "execute_result"
    }
   ],
   "source": [
    "#create data frame\n",
    "weatherPy=pd.DataFrame({\"City\":usedCities,\"Lat\":usedLats,\"Lng\":usedLngs,\"Max Temp\":maxTemp,\"Humidity\":humidity,\"Cloudiness\":cloudiness,\"Wind Speed\":windSpeed,\"Country\":country,\"Date\":date})\n",
    "\n",
    "#export to a CSV file\n",
    "weatherPy.to_csv(\"Weather_Data.csv\", encoding=\"utf-8\", index=False)\n",
    "\n",
    "weatherPy.head()"
   ]
  },
  {
   "cell_type": "code",
   "execution_count": 5,
   "metadata": {},
   "outputs": [
    {
     "data": {
      "text/html": [
       "<div>\n",
       "<style scoped>\n",
       "    .dataframe tbody tr th:only-of-type {\n",
       "        vertical-align: middle;\n",
       "    }\n",
       "\n",
       "    .dataframe tbody tr th {\n",
       "        vertical-align: top;\n",
       "    }\n",
       "\n",
       "    .dataframe thead th {\n",
       "        text-align: right;\n",
       "    }\n",
       "</style>\n",
       "<table border=\"1\" class=\"dataframe\">\n",
       "  <thead>\n",
       "    <tr style=\"text-align: right;\">\n",
       "      <th></th>\n",
       "      <th>Lat</th>\n",
       "      <th>Lng</th>\n",
       "      <th>Max Temp</th>\n",
       "      <th>Humidity</th>\n",
       "      <th>Cloudiness</th>\n",
       "      <th>Wind Speed</th>\n",
       "      <th>Date</th>\n",
       "    </tr>\n",
       "  </thead>\n",
       "  <tbody>\n",
       "    <tr>\n",
       "      <th>count</th>\n",
       "      <td>562.000000</td>\n",
       "      <td>562.000000</td>\n",
       "      <td>562.000000</td>\n",
       "      <td>562.000000</td>\n",
       "      <td>562.000000</td>\n",
       "      <td>562.000000</td>\n",
       "      <td>5.620000e+02</td>\n",
       "    </tr>\n",
       "    <tr>\n",
       "      <th>mean</th>\n",
       "      <td>20.586797</td>\n",
       "      <td>18.791299</td>\n",
       "      <td>57.226744</td>\n",
       "      <td>75.411032</td>\n",
       "      <td>53.537367</td>\n",
       "      <td>7.172082</td>\n",
       "      <td>1.603843e+09</td>\n",
       "    </tr>\n",
       "    <tr>\n",
       "      <th>std</th>\n",
       "      <td>33.027392</td>\n",
       "      <td>90.392315</td>\n",
       "      <td>21.937137</td>\n",
       "      <td>19.155897</td>\n",
       "      <td>39.142177</td>\n",
       "      <td>5.348675</td>\n",
       "      <td>7.537149e+01</td>\n",
       "    </tr>\n",
       "    <tr>\n",
       "      <th>min</th>\n",
       "      <td>-54.800000</td>\n",
       "      <td>-179.170000</td>\n",
       "      <td>-11.920000</td>\n",
       "      <td>9.000000</td>\n",
       "      <td>0.000000</td>\n",
       "      <td>0.070000</td>\n",
       "      <td>1.603842e+09</td>\n",
       "    </tr>\n",
       "    <tr>\n",
       "      <th>25%</th>\n",
       "      <td>-6.045000</td>\n",
       "      <td>-64.565000</td>\n",
       "      <td>41.000000</td>\n",
       "      <td>67.000000</td>\n",
       "      <td>8.000000</td>\n",
       "      <td>3.420000</td>\n",
       "      <td>1.603843e+09</td>\n",
       "    </tr>\n",
       "    <tr>\n",
       "      <th>50%</th>\n",
       "      <td>22.915000</td>\n",
       "      <td>23.650000</td>\n",
       "      <td>62.150000</td>\n",
       "      <td>80.000000</td>\n",
       "      <td>67.000000</td>\n",
       "      <td>5.820000</td>\n",
       "      <td>1.603843e+09</td>\n",
       "    </tr>\n",
       "    <tr>\n",
       "      <th>75%</th>\n",
       "      <td>49.902500</td>\n",
       "      <td>93.427500</td>\n",
       "      <td>76.977500</td>\n",
       "      <td>89.000000</td>\n",
       "      <td>90.000000</td>\n",
       "      <td>9.170000</td>\n",
       "      <td>1.603843e+09</td>\n",
       "    </tr>\n",
       "    <tr>\n",
       "      <th>max</th>\n",
       "      <td>78.220000</td>\n",
       "      <td>179.320000</td>\n",
       "      <td>89.600000</td>\n",
       "      <td>100.000000</td>\n",
       "      <td>100.000000</td>\n",
       "      <td>31.090000</td>\n",
       "      <td>1.603843e+09</td>\n",
       "    </tr>\n",
       "  </tbody>\n",
       "</table>\n",
       "</div>"
      ],
      "text/plain": [
       "              Lat         Lng    Max Temp    Humidity  Cloudiness  Wind Speed  \\\n",
       "count  562.000000  562.000000  562.000000  562.000000  562.000000  562.000000   \n",
       "mean    20.586797   18.791299   57.226744   75.411032   53.537367    7.172082   \n",
       "std     33.027392   90.392315   21.937137   19.155897   39.142177    5.348675   \n",
       "min    -54.800000 -179.170000  -11.920000    9.000000    0.000000    0.070000   \n",
       "25%     -6.045000  -64.565000   41.000000   67.000000    8.000000    3.420000   \n",
       "50%     22.915000   23.650000   62.150000   80.000000   67.000000    5.820000   \n",
       "75%     49.902500   93.427500   76.977500   89.000000   90.000000    9.170000   \n",
       "max     78.220000  179.320000   89.600000  100.000000  100.000000   31.090000   \n",
       "\n",
       "               Date  \n",
       "count  5.620000e+02  \n",
       "mean   1.603843e+09  \n",
       "std    7.537149e+01  \n",
       "min    1.603842e+09  \n",
       "25%    1.603843e+09  \n",
       "50%    1.603843e+09  \n",
       "75%    1.603843e+09  \n",
       "max    1.603843e+09  "
      ]
     },
     "execution_count": 5,
     "metadata": {},
     "output_type": "execute_result"
    }
   ],
   "source": [
    "#show all stats available for data frame\n",
    "weatherPy.describe()"
   ]
  },
  {
   "cell_type": "markdown",
   "metadata": {},
   "source": [
    "## Inspect the data and remove the cities where the humidity > 100%.\n",
    "----\n",
    "Skip this step if there are no cities that have humidity > 100%. "
   ]
  },
  {
   "cell_type": "code",
   "execution_count": 6,
   "metadata": {},
   "outputs": [
    {
     "data": {
      "text/html": [
       "<div>\n",
       "<style scoped>\n",
       "    .dataframe tbody tr th:only-of-type {\n",
       "        vertical-align: middle;\n",
       "    }\n",
       "\n",
       "    .dataframe tbody tr th {\n",
       "        vertical-align: top;\n",
       "    }\n",
       "\n",
       "    .dataframe thead th {\n",
       "        text-align: right;\n",
       "    }\n",
       "</style>\n",
       "<table border=\"1\" class=\"dataframe\">\n",
       "  <thead>\n",
       "    <tr style=\"text-align: right;\">\n",
       "      <th></th>\n",
       "      <th>index</th>\n",
       "      <th>City</th>\n",
       "      <th>Lat</th>\n",
       "      <th>Lng</th>\n",
       "      <th>Max Temp</th>\n",
       "      <th>Humidity</th>\n",
       "      <th>Cloudiness</th>\n",
       "      <th>Wind Speed</th>\n",
       "      <th>Country</th>\n",
       "      <th>Date</th>\n",
       "    </tr>\n",
       "  </thead>\n",
       "  <tbody>\n",
       "    <tr>\n",
       "      <th>0</th>\n",
       "      <td>99</td>\n",
       "      <td>la asuncion</td>\n",
       "      <td>11.03</td>\n",
       "      <td>-63.86</td>\n",
       "      <td>71.6</td>\n",
       "      <td>100</td>\n",
       "      <td>34</td>\n",
       "      <td>16.11</td>\n",
       "      <td>VE</td>\n",
       "      <td>1603842719</td>\n",
       "    </tr>\n",
       "    <tr>\n",
       "      <th>1</th>\n",
       "      <td>311</td>\n",
       "      <td>banepa</td>\n",
       "      <td>27.63</td>\n",
       "      <td>85.52</td>\n",
       "      <td>55.4</td>\n",
       "      <td>100</td>\n",
       "      <td>20</td>\n",
       "      <td>2.24</td>\n",
       "      <td>NP</td>\n",
       "      <td>1603842754</td>\n",
       "    </tr>\n",
       "    <tr>\n",
       "      <th>2</th>\n",
       "      <td>453</td>\n",
       "      <td>zadar</td>\n",
       "      <td>44.12</td>\n",
       "      <td>15.24</td>\n",
       "      <td>53.6</td>\n",
       "      <td>100</td>\n",
       "      <td>20</td>\n",
       "      <td>3.98</td>\n",
       "      <td>HR</td>\n",
       "      <td>1603842778</td>\n",
       "    </tr>\n",
       "    <tr>\n",
       "      <th>3</th>\n",
       "      <td>34</td>\n",
       "      <td>esperance</td>\n",
       "      <td>-33.87</td>\n",
       "      <td>121.90</td>\n",
       "      <td>62.6</td>\n",
       "      <td>100</td>\n",
       "      <td>64</td>\n",
       "      <td>10.29</td>\n",
       "      <td>AU</td>\n",
       "      <td>1603842708</td>\n",
       "    </tr>\n",
       "    <tr>\n",
       "      <th>4</th>\n",
       "      <td>436</td>\n",
       "      <td>lasa</td>\n",
       "      <td>46.62</td>\n",
       "      <td>10.70</td>\n",
       "      <td>41.0</td>\n",
       "      <td>100</td>\n",
       "      <td>13</td>\n",
       "      <td>2.80</td>\n",
       "      <td>IT</td>\n",
       "      <td>1603842775</td>\n",
       "    </tr>\n",
       "  </tbody>\n",
       "</table>\n",
       "</div>"
      ],
      "text/plain": [
       "   index         City    Lat     Lng  Max Temp  Humidity  Cloudiness  \\\n",
       "0     99  la asuncion  11.03  -63.86      71.6       100          34   \n",
       "1    311       banepa  27.63   85.52      55.4       100          20   \n",
       "2    453        zadar  44.12   15.24      53.6       100          20   \n",
       "3     34    esperance -33.87  121.90      62.6       100          64   \n",
       "4    436         lasa  46.62   10.70      41.0       100          13   \n",
       "\n",
       "   Wind Speed Country        Date  \n",
       "0       16.11      VE  1603842719  \n",
       "1        2.24      NP  1603842754  \n",
       "2        3.98      HR  1603842778  \n",
       "3       10.29      AU  1603842708  \n",
       "4        2.80      IT  1603842775  "
      ]
     },
     "execution_count": 6,
     "metadata": {},
     "output_type": "execute_result"
    }
   ],
   "source": [
    "#upload from the CSV file\n",
    "weatherPyCSV=pd.read_csv('Weather_Data.csv')\n",
    "#sort value by humidity %\n",
    "weatherPyCSV=weatherPyCSV.sort_values(\"Humidity\", ascending=False).reset_index()\n",
    "weatherPyCSV.head()"
   ]
  },
  {
   "cell_type": "code",
   "execution_count": null,
   "metadata": {},
   "outputs": [],
   "source": []
  },
  {
   "cell_type": "code",
   "execution_count": 7,
   "metadata": {},
   "outputs": [],
   "source": [
    "#  Get the indices of cities that have humidity over 100%.\n",
    "HumidityIndices=weatherPyCSV['City'].where(weatherPyCSV['Humidity'] > 100).to_frame(name='Humidity > 100')\n",
    "\n",
    "indexList=HumidityIndices.index[HumidityIndices['Humidity > 100'].notnull()].tolist()\n"
   ]
  },
  {
   "cell_type": "code",
   "execution_count": 8,
   "metadata": {},
   "outputs": [
    {
     "name": "stdout",
     "output_type": "stream",
     "text": [
      "There are no columns to drop\n"
     ]
    }
   ],
   "source": [
    "# Make a new DataFrame equal to the city data to drop all humidity outliers by index.\n",
    "# Passing \"inplace=False\" will make a copy of the city_data DataFrame, which we call \"clean_city_data\".\n",
    "if len(indexList)!=0:\n",
    "    print(f\"There are columns to drop: {indexList}\")\n",
    "    for x in indexList:\n",
    "        cleanWeatherPy=WeatherPyCSV.drop(indexList , inplace=False)\n",
    "else:\n",
    "    print(\"There are no columns to drop\")"
   ]
  },
  {
   "cell_type": "code",
   "execution_count": 10,
   "metadata": {},
   "outputs": [
    {
     "data": {
      "text/html": [
       "<div>\n",
       "<style scoped>\n",
       "    .dataframe tbody tr th:only-of-type {\n",
       "        vertical-align: middle;\n",
       "    }\n",
       "\n",
       "    .dataframe tbody tr th {\n",
       "        vertical-align: top;\n",
       "    }\n",
       "\n",
       "    .dataframe thead th {\n",
       "        text-align: right;\n",
       "    }\n",
       "</style>\n",
       "<table border=\"1\" class=\"dataframe\">\n",
       "  <thead>\n",
       "    <tr style=\"text-align: right;\">\n",
       "      <th></th>\n",
       "      <th>index</th>\n",
       "      <th>City</th>\n",
       "      <th>Lat</th>\n",
       "      <th>Lng</th>\n",
       "      <th>Max Temp</th>\n",
       "      <th>Humidity</th>\n",
       "      <th>Cloudiness</th>\n",
       "      <th>Wind Speed</th>\n",
       "      <th>Country</th>\n",
       "      <th>Date</th>\n",
       "    </tr>\n",
       "  </thead>\n",
       "  <tbody>\n",
       "    <tr>\n",
       "      <th>0</th>\n",
       "      <td>99</td>\n",
       "      <td>la asuncion</td>\n",
       "      <td>11.03</td>\n",
       "      <td>-63.86</td>\n",
       "      <td>71.6</td>\n",
       "      <td>100</td>\n",
       "      <td>34</td>\n",
       "      <td>16.11</td>\n",
       "      <td>VE</td>\n",
       "      <td>1603842719</td>\n",
       "    </tr>\n",
       "    <tr>\n",
       "      <th>1</th>\n",
       "      <td>311</td>\n",
       "      <td>banepa</td>\n",
       "      <td>27.63</td>\n",
       "      <td>85.52</td>\n",
       "      <td>55.4</td>\n",
       "      <td>100</td>\n",
       "      <td>20</td>\n",
       "      <td>2.24</td>\n",
       "      <td>NP</td>\n",
       "      <td>1603842754</td>\n",
       "    </tr>\n",
       "    <tr>\n",
       "      <th>2</th>\n",
       "      <td>453</td>\n",
       "      <td>zadar</td>\n",
       "      <td>44.12</td>\n",
       "      <td>15.24</td>\n",
       "      <td>53.6</td>\n",
       "      <td>100</td>\n",
       "      <td>20</td>\n",
       "      <td>3.98</td>\n",
       "      <td>HR</td>\n",
       "      <td>1603842778</td>\n",
       "    </tr>\n",
       "    <tr>\n",
       "      <th>3</th>\n",
       "      <td>34</td>\n",
       "      <td>esperance</td>\n",
       "      <td>-33.87</td>\n",
       "      <td>121.90</td>\n",
       "      <td>62.6</td>\n",
       "      <td>100</td>\n",
       "      <td>64</td>\n",
       "      <td>10.29</td>\n",
       "      <td>AU</td>\n",
       "      <td>1603842708</td>\n",
       "    </tr>\n",
       "    <tr>\n",
       "      <th>4</th>\n",
       "      <td>436</td>\n",
       "      <td>lasa</td>\n",
       "      <td>46.62</td>\n",
       "      <td>10.70</td>\n",
       "      <td>41.0</td>\n",
       "      <td>100</td>\n",
       "      <td>13</td>\n",
       "      <td>2.80</td>\n",
       "      <td>IT</td>\n",
       "      <td>1603842775</td>\n",
       "    </tr>\n",
       "  </tbody>\n",
       "</table>\n",
       "</div>"
      ],
      "text/plain": [
       "   index         City    Lat     Lng  Max Temp  Humidity  Cloudiness  \\\n",
       "0     99  la asuncion  11.03  -63.86      71.6       100          34   \n",
       "1    311       banepa  27.63   85.52      55.4       100          20   \n",
       "2    453        zadar  44.12   15.24      53.6       100          20   \n",
       "3     34    esperance -33.87  121.90      62.6       100          64   \n",
       "4    436         lasa  46.62   10.70      41.0       100          13   \n",
       "\n",
       "   Wind Speed Country        Date  \n",
       "0       16.11      VE  1603842719  \n",
       "1        2.24      NP  1603842754  \n",
       "2        3.98      HR  1603842778  \n",
       "3       10.29      AU  1603842708  \n",
       "4        2.80      IT  1603842775  "
      ]
     },
     "execution_count": 10,
     "metadata": {},
     "output_type": "execute_result"
    }
   ],
   "source": [
    "weatherPyCSV.head()\n"
   ]
  },
  {
   "cell_type": "markdown",
   "metadata": {},
   "source": [
    "## Plotting the Data\n",
    "* Use proper labeling of the plots using plot titles (including date of analysis) and axes labels.\n",
    "* Save the plotted figures as .pngs."
   ]
  },
  {
   "cell_type": "markdown",
   "metadata": {},
   "source": [
    "## Latitude vs. Temperature Plot"
   ]
  },
  {
   "cell_type": "code",
   "execution_count": 11,
   "metadata": {
    "scrolled": true
   },
   "outputs": [
    {
     "data": {
      "text/plain": [
       "<matplotlib.collections.PathCollection at 0x2528097d588>"
      ]
     },
     "execution_count": 11,
     "metadata": {},
     "output_type": "execute_result"
    },
    {
     "data": {
      "image/png": "[encoded data removed]",
      "text/plain": [
       "<Figure size 432x288 with 1 Axes>"
      ]
     },
     "metadata": {
      "needs_background": "light"
     },
     "output_type": "display_data"
    }
   ],
   "source": [
    "plt.title(\"City Latitude vs. Max Temperature (10/27/2020)\")\n",
    "plt.xlabel(\"Latitude\")\n",
    "plt.ylabel(\"Max Temperature (F)\")\n",
    "plt.scatter(weatherPyCSV[\"Lat\"], weatherPyCSV[\"Max Temp\"], marker=\"o\", facecolors=\"blue\", edgecolors=\"black\")"
   ]
  },
  {
   "cell_type": "code",
   "execution_count": 49,
   "metadata": {},
   "outputs": [],
   "source": [
    "## The above scatter plot shows latitude in relation to the location's Max temperature. We can see that the northern hemisphere\n",
    "## (to the right of 0 on the latitude line) gets colder the futher north you get. Conversely, the southern hemisphere gets\n",
    "## colder the further south you get from the equator."
   ]
  },
  {
   "cell_type": "markdown",
   "metadata": {},
   "source": [
    "## Latitude vs. Humidity Plot"
   ]
  },
  {
   "cell_type": "code",
   "execution_count": 12,
   "metadata": {},
   "outputs": [
    {
     "data": {
      "text/plain": [
       "<matplotlib.collections.PathCollection at 0x25282a72240>"
      ]
     },
     "execution_count": 12,
     "metadata": {},
     "output_type": "execute_result"
    },
    {
     "data": {
      "image/png": "[encoded data removed]",
      "text/plain": [
       "<Figure size 432x288 with 1 Axes>"
      ]
     },
     "metadata": {
      "needs_background": "light"
     },
     "output_type": "display_data"
    }
   ],
   "source": [
    "plt.title(\"City Latitude vs. Humidity (10/27/2020)\")\n",
    "plt.xlabel(\"Latitude\")\n",
    "plt.ylabel(\"Humidity (%)\")\n",
    "plt.scatter(weatherPyCSV[\"Lat\"], weatherPyCSV[\"Humidity\"], marker=\"o\", facecolors=\"blue\", edgecolors=\"black\")"
   ]
  },
  {
   "cell_type": "code",
   "execution_count": null,
   "metadata": {},
   "outputs": [],
   "source": [
    "## The above scatter plot shows latitude in relation to the location's humidity. There's little correlation, but there does seem\n",
    "## to be many (visually more than 3/4of the data set) that have humidity higher than 50%. These locations are spread fairly evenly\n",
    "## between the northern and southern hemispheres."
   ]
  },
  {
   "cell_type": "markdown",
   "metadata": {},
   "source": [
    "## Latitude vs. Cloudiness Plot"
   ]
  },
  {
   "cell_type": "code",
   "execution_count": 13,
   "metadata": {},
   "outputs": [
    {
     "data": {
      "text/plain": [
       "<matplotlib.collections.PathCollection at 0x25282ab6940>"
      ]
     },
     "execution_count": 13,
     "metadata": {},
     "output_type": "execute_result"
    },
    {
     "data": {
      "image/png": "[encoded data removed]",
      "text/plain": [
       "<Figure size 432x288 with 1 Axes>"
      ]
     },
     "metadata": {
      "needs_background": "light"
     },
     "output_type": "display_data"
    }
   ],
   "source": [
    "plt.title(\"City Latitude vs. Cloudiness (10/27/2020)\")\n",
    "plt.xlabel(\"Latitude\")\n",
    "plt.ylabel(\"Cloudiness (%)\")\n",
    "plt.scatter(weatherPyCSV[\"Lat\"], weatherPyCSV[\"Cloudiness\"], marker=\"o\", facecolors=\"blue\", edgecolors=\"black\")"
   ]
  },
  {
   "cell_type": "code",
   "execution_count": null,
   "metadata": {},
   "outputs": [],
   "source": [
    "## The above scatter plot show latitude in relation to cloudiness. There seems to be absolutely no relation between a location\n",
    "## and the amount of cloudiness it received."
   ]
  },
  {
   "cell_type": "markdown",
   "metadata": {},
   "source": [
    "## Latitude vs. Wind Speed Plot"
   ]
  },
  {
   "cell_type": "code",
   "execution_count": 14,
   "metadata": {},
   "outputs": [
    {
     "data": {
      "text/plain": [
       "<matplotlib.collections.PathCollection at 0x25282b37390>"
      ]
     },
     "execution_count": 14,
     "metadata": {},
     "output_type": "execute_result"
    },
    {
     "data": {
      "image/png": "[encoded data removed]",
      "text/plain": [
       "<Figure size 432x288 with 1 Axes>"
      ]
     },
     "metadata": {
      "needs_background": "light"
     },
     "output_type": "display_data"
    }
   ],
   "source": [
    "plt.title(\"City Latitude vs. Wind Speed (10/27/2020)\")\n",
    "plt.xlabel(\"Latitude\")\n",
    "plt.ylabel(\"Wind Speed (mph)\")\n",
    "plt.scatter(weatherPyCSV[\"Lat\"], weatherPyCSV[\"Wind Speed\"], marker=\"o\", facecolors=\"blue\", edgecolors=\"black\")"
   ]
  },
  {
   "cell_type": "code",
   "execution_count": null,
   "metadata": {},
   "outputs": [],
   "source": [
    "## The above scatter plot shows latitude in relation to the locations wind speed (mph). There doesn't seem to be much relation\n",
    "## for wind speed compared to location, however, visually it seems that more than 3/4 of the locations experience wind speeds of\n",
    "## 15mph or less."
   ]
  },
  {
   "cell_type": "markdown",
   "metadata": {},
   "source": [
    "## Linear Regression"
   ]
  },
  {
   "cell_type": "code",
   "execution_count": 23,
   "metadata": {},
   "outputs": [],
   "source": [
    "northernDF=weatherPyCSV[weatherPyCSV[\"Lat\"]>=0]\n",
    "southernDF=weatherPyCSV[weatherPyCSV[\"Lat\"]<=0]"
   ]
  },
  {
   "cell_type": "markdown",
   "metadata": {},
   "source": [
    "####  Northern Hemisphere - Max Temp vs. Latitude Linear Regression"
   ]
  },
  {
   "cell_type": "code",
   "execution_count": 27,
   "metadata": {},
   "outputs": [
    {
     "name": "stdout",
     "output_type": "stream",
     "text": [
      "The r-value is: -0.8707601642792088\n"
     ]
    },
    {
     "data": {
      "image/png": "[encoded data removed]",
      "text/plain": [
       "<Figure size 432x288 with 1 Axes>"
      ]
     },
     "metadata": {
      "needs_background": "light"
     },
     "output_type": "display_data"
    }
   ],
   "source": [
    "plt.title(\"Northern Hemisphere: City Latitude vs. Max Temp (10/27/2020)\")\n",
    "plt.xlabel(\"Latitude\")\n",
    "plt.ylabel(\"Max Temp (F)\")\n",
    "(slope, intercept, rvalue, pvalue, stderr) = linregress(northernDF[\"Lat\"], northernDF[\"Max Temp\"])\n",
    "print(f\"The r-value is: {rvalue}\")\n",
    "regress_values = northernDF[\"Lat\"] * slope + intercept\n",
    "line_eq = \"y = \" + str(round(slope,2)) + \"x + \" + str(round(intercept,2))\n",
    "plt.scatter(northernDF[\"Lat\"], northernDF[\"Max Temp\"], marker=\"o\", facecolors=\"blue\", edgecolors=\"black\")\n",
    "plt.plot(northernDF[\"Lat\"],regress_values,\"r-\")\n",
    "plt.annotate(line_eq,(10,0),fontsize=15,color=\"red\")\n",
    "plt.show()"
   ]
  },
  {
   "cell_type": "markdown",
   "metadata": {},
   "source": [
    "####  Southern Hemisphere - Max Temp vs. Latitude Linear Regression"
   ]
  },
  {
   "cell_type": "code",
   "execution_count": 31,
   "metadata": {},
   "outputs": [
    {
     "name": "stdout",
     "output_type": "stream",
     "text": [
      "The r-value is: 0.7432330439125426\n"
     ]
    },
    {
     "data": {
      "image/png": "[encoded data removed]",
      "text/plain": [
       "<Figure size 432x288 with 1 Axes>"
      ]
     },
     "metadata": {
      "needs_background": "light"
     },
     "output_type": "display_data"
    }
   ],
   "source": [
    "plt.title(\"Southern Hemisphere: City Latitude vs. Max Temp (10/27/2020)\")\n",
    "plt.xlabel(\"Latitude\")\n",
    "plt.ylabel(\"Max Temp (F)\")\n",
    "(slope, intercept, rvalue, pvalue, stderr) = linregress(southernDF[\"Lat\"], southernDF[\"Max Temp\"])\n",
    "print(f\"The r-value is: {rvalue}\")\n",
    "regress_values = southernDF[\"Lat\"] * slope + intercept\n",
    "line_eq = \"y = \" + str(round(slope,2)) + \"x + \" + str(round(intercept,2))\n",
    "plt.scatter(southernDF[\"Lat\"], southernDF[\"Max Temp\"], marker=\"o\", facecolors=\"blue\", edgecolors=\"black\")\n",
    "plt.plot(southernDF[\"Lat\"],regress_values,\"r-\")\n",
    "plt.annotate(line_eq,(-55,85),fontsize=15,color=\"red\")\n",
    "plt.show()"
   ]
  },
  {
   "cell_type": "code",
   "execution_count": null,
   "metadata": {},
   "outputs": [],
   "source": [
    "## The above two scatter plots show the norther and southern hemispheres, respectively, compared to the max temp in each location.\n",
    "## There is a relatively strong relation for each hemisphere and it's max temps, where northern hemisphere locations get colder\n",
    "## further north, while the southern hemisphere has colder temps further south."
   ]
  },
  {
   "cell_type": "markdown",
   "metadata": {},
   "source": [
    "####  Northern Hemisphere - Humidity (%) vs. Latitude Linear Regression"
   ]
  },
  {
   "cell_type": "code",
   "execution_count": 34,
   "metadata": {},
   "outputs": [
    {
     "name": "stdout",
     "output_type": "stream",
     "text": [
      "The r-value is: 0.24014518451347844\n"
     ]
    },
    {
     "data": {
      "image/png": "[encoded data removed]",
      "text/plain": [
       "<Figure size 432x288 with 1 Axes>"
      ]
     },
     "metadata": {
      "needs_background": "light"
     },
     "output_type": "display_data"
    }
   ],
   "source": [
    "plt.title(\"Northern Hemisphere: City Latitude vs. Humidity (10/27/2020)\")\n",
    "plt.xlabel(\"Latitude\")\n",
    "plt.ylabel(\"Humidity (%)\")\n",
    "(slope, intercept, rvalue, pvalue, stderr) = linregress(northernDF[\"Lat\"], northernDF[\"Humidity\"])\n",
    "print(f\"The r-value is: {rvalue}\")\n",
    "regress_values = northernDF[\"Lat\"] * slope + intercept\n",
    "line_eq = \"y = \" + str(round(slope,2)) + \"x + \" + str(round(intercept,2))\n",
    "plt.scatter(northernDF[\"Lat\"], northernDF[\"Humidity\"], marker=\"o\", facecolors=\"blue\", edgecolors=\"black\")\n",
    "plt.plot(northernDF[\"Lat\"],regress_values,\"r-\")\n",
    "plt.annotate(line_eq,(45,10),fontsize=15,color=\"red\")\n",
    "plt.show()"
   ]
  },
  {
   "cell_type": "markdown",
   "metadata": {},
   "source": [
    "####  Southern Hemisphere - Humidity (%) vs. Latitude Linear Regression"
   ]
  },
  {
   "cell_type": "code",
   "execution_count": 36,
   "metadata": {},
   "outputs": [
    {
     "name": "stdout",
     "output_type": "stream",
     "text": [
      "The r-value is: 0.20361149879155008\n"
     ]
    },
    {
     "data": {
      "image/png": "[encoded data removed]",
      "text/plain": [
       "<Figure size 432x288 with 1 Axes>"
      ]
     },
     "metadata": {
      "needs_background": "light"
     },
     "output_type": "display_data"
    }
   ],
   "source": [
    "plt.title(\"Southern Hemisphere: City Latitude vs. Humidity (10/27/2020)\")\n",
    "plt.xlabel(\"Latitude\")\n",
    "plt.ylabel(\"Humidity (%)\")\n",
    "(slope, intercept, rvalue, pvalue, stderr) = linregress(southernDF[\"Lat\"], southernDF[\"Humidity\"])\n",
    "print(f\"The r-value is: {rvalue}\")\n",
    "regress_values = southernDF[\"Lat\"] * slope + intercept\n",
    "line_eq = \"y = \" + str(round(slope,2)) + \"x + \" + str(round(intercept,2))\n",
    "plt.scatter(southernDF[\"Lat\"], southernDF[\"Humidity\"], marker=\"o\", facecolors=\"blue\", edgecolors=\"black\")\n",
    "plt.plot(southernDF[\"Lat\"],regress_values,\"r-\")\n",
    "plt.annotate(line_eq,(-55,15),fontsize=15,color=\"red\")\n",
    "plt.show()"
   ]
  },
  {
   "cell_type": "code",
   "execution_count": null,
   "metadata": {},
   "outputs": [],
   "source": [
    "## The above two scatter plots show latitude vs humidity for both the northern and southern hemispheres. Neither hemisphere has\n",
    "## a strong relation between the two, however, the southern hemisphere has  the vast majority of cities with humidity over 50%\n",
    "## while the norther hemisphere has a lot more occurences of cities with humidity below 50% (however, the vast majority of  \n",
    "## cities still have humidity over 50%).\n",
    " "
   ]
  },
  {
   "cell_type": "markdown",
   "metadata": {},
   "source": [
    "####  Northern Hemisphere - Cloudiness (%) vs. Latitude Linear Regression"
   ]
  },
  {
   "cell_type": "code",
   "execution_count": 40,
   "metadata": {},
   "outputs": [
    {
     "name": "stdout",
     "output_type": "stream",
     "text": [
      "The r-value is: 0.05372245710220484\n"
     ]
    },
    {
     "data": {
      "image/png": "[encoded data removed]",
      "text/plain": [
       "<Figure size 432x288 with 1 Axes>"
      ]
     },
     "metadata": {
      "needs_background": "light"
     },
     "output_type": "display_data"
    }
   ],
   "source": [
    "plt.title(\"Northern Hemisphere: City Latitude vs. Cloudiness (10/27/2020)\")\n",
    "plt.xlabel(\"Latitude\")\n",
    "plt.ylabel(\"Cloudiness (%)\")\n",
    "(slope, intercept, rvalue, pvalue, stderr) = linregress(northernDF[\"Lat\"], northernDF[\"Cloudiness\"])\n",
    "print(f\"The r-value is: {rvalue}\")\n",
    "regress_values = northernDF[\"Lat\"] * slope + intercept\n",
    "line_eq = \"y = \" + str(round(slope,2)) + \"x + \" + str(round(intercept,2))\n",
    "plt.scatter(northernDF[\"Lat\"], northernDF[\"Cloudiness\"], marker=\"o\", facecolors=\"blue\", edgecolors=\"black\")\n",
    "plt.plot(northernDF[\"Lat\"],regress_values,\"r-\")\n",
    "plt.annotate(line_eq,(15,25),fontsize=15,color=\"red\")\n",
    "plt.show()"
   ]
  },
  {
   "cell_type": "markdown",
   "metadata": {},
   "source": [
    "####  Southern Hemisphere - Cloudiness (%) vs. Latitude Linear Regression"
   ]
  },
  {
   "cell_type": "code",
   "execution_count": 41,
   "metadata": {},
   "outputs": [
    {
     "name": "stdout",
     "output_type": "stream",
     "text": [
      "The r-value is: 0.20252375605488168\n"
     ]
    },
    {
     "data": {
      "image/png": "[encoded data removed]",
      "text/plain": [
       "<Figure size 432x288 with 1 Axes>"
      ]
     },
     "metadata": {
      "needs_background": "light"
     },
     "output_type": "display_data"
    }
   ],
   "source": [
    "plt.title(\"Southern Hemisphere: City Latitude vs. Cloudiness (10/27/2020)\")\n",
    "plt.xlabel(\"Latitude\")\n",
    "plt.ylabel(\"Cloudiness (%)\")\n",
    "(slope, intercept, rvalue, pvalue, stderr) = linregress(southernDF[\"Lat\"], southernDF[\"Cloudiness\"])\n",
    "print(f\"The r-value is: {rvalue}\")\n",
    "regress_values = southernDF[\"Lat\"] * slope + intercept\n",
    "line_eq = \"y = \" + str(round(slope,2)) + \"x + \" + str(round(intercept,2))\n",
    "plt.scatter(southernDF[\"Lat\"], southernDF[\"Cloudiness\"], marker=\"o\", facecolors=\"blue\", edgecolors=\"black\")\n",
    "plt.plot(southernDF[\"Lat\"],regress_values,\"r-\")\n",
    "plt.annotate(line_eq,(-55,15),fontsize=15,color=\"red\")\n",
    "plt.show()"
   ]
  },
  {
   "cell_type": "code",
   "execution_count": null,
   "metadata": {},
   "outputs": [],
   "source": [
    "## The above two scatter plots show the relation between latitude and cloudiness for both the northern and southern hemispheres.\n",
    "## There is little to no relationship between these two variables. The number of places with cloudiness greater than 50% seems \n",
    "## to be balanced with the number of places with cloudiness less than 50%, and both are spread evenly over all latitudes."
   ]
  },
  {
   "cell_type": "markdown",
   "metadata": {},
   "source": [
    "####  Northern Hemisphere - Wind Speed (mph) vs. Latitude Linear Regression"
   ]
  },
  {
   "cell_type": "code",
   "execution_count": 45,
   "metadata": {},
   "outputs": [
    {
     "name": "stdout",
     "output_type": "stream",
     "text": [
      "The r-value is: 0.17156594577506806\n"
     ]
    },
    {
     "data": {
      "image/png": "[encoded data removed]",
      "text/plain": [
       "<Figure size 432x288 with 1 Axes>"
      ]
     },
     "metadata": {
      "needs_background": "light"
     },
     "output_type": "display_data"
    }
   ],
   "source": [
    "plt.title(\"Northern Hemisphere: City Latitude vs. Wind Speed (10/27/2020)\")\n",
    "plt.xlabel(\"Latitude\")\n",
    "plt.ylabel(\"Wind Speed (mph)\")\n",
    "(slope, intercept, rvalue, pvalue, stderr) = linregress(northernDF[\"Lat\"], northernDF[\"Wind Speed\"])\n",
    "print(f\"The r-value is: {rvalue}\")\n",
    "regress_values = northernDF[\"Lat\"] * slope + intercept\n",
    "line_eq = \"y = \" + str(round(slope,2)) + \"x + \" + str(round(intercept,2))\n",
    "plt.scatter(northernDF[\"Lat\"], northernDF[\"Wind Speed\"], marker=\"o\", facecolors=\"blue\", edgecolors=\"black\")\n",
    "plt.plot(northernDF[\"Lat\"],regress_values,\"r-\")\n",
    "plt.annotate(line_eq,(48,30),fontsize=15,color=\"red\")\n",
    "plt.show()"
   ]
  },
  {
   "cell_type": "markdown",
   "metadata": {},
   "source": [
    "####  Southern Hemisphere - Wind Speed (mph) vs. Latitude Linear Regression"
   ]
  },
  {
   "cell_type": "code",
   "execution_count": 47,
   "metadata": {},
   "outputs": [
    {
     "name": "stdout",
     "output_type": "stream",
     "text": [
      "The r-value is: -0.24756490741940138\n"
     ]
    },
    {
     "data": {
      "image/png": "[encoded data removed]",
      "text/plain": [
       "<Figure size 432x288 with 1 Axes>"
      ]
     },
     "metadata": {
      "needs_background": "light"
     },
     "output_type": "display_data"
    }
   ],
   "source": [
    "plt.title(\"Southern Hemisphere: City Latitude vs. Wind Speed (10/27/2020)\")\n",
    "plt.xlabel(\"Latitude\")\n",
    "plt.ylabel(\"Wind Speed (mph)\")\n",
    "(slope, intercept, rvalue, pvalue, stderr) = linregress(southernDF[\"Lat\"], southernDF[\"Wind Speed\"])\n",
    "print(f\"The r-value is: {rvalue}\")\n",
    "regress_values = southernDF[\"Lat\"] * slope + intercept\n",
    "line_eq = \"y = \" + str(round(slope,2)) + \"x + \" + str(round(intercept,2))\n",
    "plt.scatter(southernDF[\"Lat\"], southernDF[\"Wind Speed\"], marker=\"o\", facecolors=\"blue\", edgecolors=\"black\")\n",
    "plt.plot(southernDF[\"Lat\"],regress_values,\"r-\")\n",
    "plt.annotate(line_eq,(-55,25),fontsize=15,color=\"red\")\n",
    "plt.show()"
   ]
  },
  {
   "cell_type": "code",
   "execution_count": null,
   "metadata": {},
   "outputs": [],
   "source": [
    "## The above two scatter plots show the relationship between latitude and wind speed for the nothern and southern hemispheres.\n",
    "## There doesn't seem to be a huge relation between the two for the northern or southern hemispheres, however but have a majority\n",
    "## of locations with wind speed of 15mph or less. "
   ]
  }
 ],
 "metadata": {
  "anaconda-cloud": {},
  "kernel_info": {
   "name": "python3"
  },
  "kernelspec": {
   "display_name": "Python [conda env:PythonData] *",
   "language": "python",
   "name": "conda-env-PythonData-py"
  },
  "language_info": {
   "codemirror_mode": {
    "name": "ipython",
    "version": 3
   },
   "file_extension": ".py",
   "mimetype": "text/x-python",
   "name": "python",
   "nbconvert_exporter": "python",
   "pygments_lexer": "ipython3",
   "version": "3.7.1"
  },
  "latex_envs": {
   "LaTeX_envs_menu_present": true,
   "autoclose": false,
   "autocomplete": true,
   "bibliofile": "biblio.bib",
   "cite_by": "apalike",
   "current_citInitial": 1,
   "eqLabelWithNumbers": true,
   "eqNumInitial": 1,
   "hotkeys": {
    "equation": "Ctrl-E",
    "itemize": "Ctrl-I"
   },
   "labels_anchors": false,
   "latex_user_defs": false,
   "report_style_numbering": false,
   "user_envs_cfg": false
  },
  "nteract": {
   "version": "0.12.3"
  }
 },
 "nbformat": 4,
 "nbformat_minor": 2
}
